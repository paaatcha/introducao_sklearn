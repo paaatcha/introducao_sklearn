{
 "cells": [
  {
   "cell_type": "markdown",
   "metadata": {},
   "source": [
    "# Carregando *built-in* datasets\n",
    "Neste notebook vamos explorar o `sklearn.datasets`, o subpacote que nos permite carregar alguns datasets conhecidos usando a API da biblioteca.\n",
    "\n",
    "- Lista de funções disponíveis: https://scikit-learn.org/stable/modules/classes.html#module-sklearn.datasets"
   ]
  },
  {
   "cell_type": "code",
   "execution_count": null,
   "metadata": {},
   "outputs": [],
   "source": [
    "from sklearn import datasets"
   ]
  },
  {
   "cell_type": "markdown",
   "metadata": {},
   "source": [
    "## Gerando dados fictícios"
   ]
  },
  {
   "cell_type": "markdown",
   "metadata": {},
   "source": [
    "- Gerando dados para um problema de classificação com:\n",
    "    - 200 amostras\n",
    "    - 10 atributos\n",
    "    - 2 classes\n",
    "    \n",
    "Vamos setar `random_state = 8` para fins de reproducibilidade. Para mais, veja a [documentação da função](https://scikit-learn.org/stable/modules/generated/sklearn.datasets.make_classification.html#sklearn.datasets.make_classification)\n"
   ]
  },
  {
   "cell_type": "code",
   "execution_count": null,
   "metadata": {},
   "outputs": [],
   "source": [
    "X_class, y_class = datasets.make_classification(n_samples=200, n_features=10, n_classes=2, random_state=8)\n",
    "print(\"X_class:\", X_class.shape)\n",
    "print(\"y_class:\", y_class.shape)"
   ]
  },
  {
   "cell_type": "markdown",
   "metadata": {},
   "source": [
    "- Gerando dados para um problema de regressão com:\n",
    "    - 100 amostras\n",
    "    - 5 atributos\n",
    "    \n",
    "Vamos setar `random_state = 8` para fins de reproducibilidade. Para mais, veja a [documentação da função](https://scikit-learn.org/stable/modules/generated/sklearn.datasets.make_regression.html#sklearn.datasets.make_regression)"
   ]
  },
  {
   "cell_type": "code",
   "execution_count": null,
   "metadata": {},
   "outputs": [],
   "source": [
    "X_reg, y_reg = datasets.make_regression(n_samples=100, n_features=5, random_state=8)\n",
    "print(\"X_reg:\", X_reg.shape)\n",
    "print(\"y_reg:\", y_reg.shape)"
   ]
  },
  {
   "cell_type": "markdown",
   "metadata": {},
   "source": [
    "## Carregando datasets conhecidos\n",
    "Existe uma lista de datasets conhecidos que a biblioteca carrega diretamente via API. Você encontra detalhes [aqui](https://scikit-learn.org/stable/datasets.html). Nesse exemplo, vamos carregar o famoso dataset da Iris."
   ]
  },
  {
   "cell_type": "code",
   "execution_count": null,
   "metadata": {},
   "outputs": [],
   "source": [
    "iris_dataset = datasets.load_iris()\n",
    "X = iris_dataset['data']\n",
    "y = iris_dataset['target']\n",
    "descricao = iris_dataset['DESCR']"
   ]
  },
  {
   "cell_type": "code",
   "execution_count": null,
   "metadata": {},
   "outputs": [],
   "source": [
    "print(descricao)"
   ]
  }
 ],
 "metadata": {
  "kernelspec": {
   "display_name": "Python 3",
   "language": "python",
   "name": "python3"
  },
  "language_info": {
   "codemirror_mode": {
    "name": "ipython",
    "version": 3
   },
   "file_extension": ".py",
   "mimetype": "text/x-python",
   "name": "python",
   "nbconvert_exporter": "python",
   "pygments_lexer": "ipython3",
   "version": "3.8.5"
  }
 },
 "nbformat": 4,
 "nbformat_minor": 4
}
